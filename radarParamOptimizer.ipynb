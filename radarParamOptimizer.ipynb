{
 "cells": [
  {
   "cell_type": "markdown",
   "id": "13c3b651",
   "metadata": {},
   "source": [
    "Real Time Radar Parameter Optimizer\n",
    "===================================\n",
    "\n",
    "Carson Anderson & Calvin Henggeler  \n",
    "ASEN 5264 Decision Making Under Uncertainty - Spring 2025  \n",
    "Semester Project  "
   ]
  },
  {
   "cell_type": "code",
   "execution_count": null,
   "id": "2f00e2d7",
   "metadata": {},
   "outputs": [],
   "source": [
    "using POMDPs\n",
    "using POMDPTools: transition_matrices, reward_vectors, SparseCat, Deterministic, RolloutSimulator, DiscreteBelief, FunctionPolicy, ordered_states, ordered_actions, DiscreteUpdater, transition, UnderlyingMDP, implicitDistribution\n",
    "using QuickPOMDPs: QuickPOMDP\n",
    "using POMDPModels: TigerPOMDP, TIGER_LEFT, TIGER_RIGHT, TIGER_LISTEN, TIGER_OPEN_LEFT, TIGER_OPEN_RIGHT\n",
    "using NativeSARSOP: SARSOPSolver\n",
    "using POMDPTesting: has_consistent_distributions\n",
    "using QMDP: QMDPSolver\n",
    "using Plots\n",
    "using Statistics: std\n",
    "using POMDPPolicies: alphavectors, FunctionPolicy\n",
    "using Random\n",
    "using radarSimulator \n",
    "include(\"radarSimulator.jl\")"
   ]
  },
  {
   "cell_type": "markdown",
   "id": "7902d045",
   "metadata": {},
   "source": [
    "## 1. Create Smart Radar POMDP"
   ]
  },
  {
   "cell_type": "code",
   "execution_count": null,
   "id": "dd5c23f5",
   "metadata": {},
   "outputs": [],
   "source": [
    "radar_tracking = QuickPOMDP(\n",
    "    \n",
    "    # --- Environment Parameters ---\n",
    "    c = 3*10^8  # Speed of light\n",
    "    f = 1e9     # Frequency\n",
    "    λ = c/f     # Wavelength\n",
    "    x_coverage_area = 100e3     # 100 km x 100 km area\n",
    "    y_coverage_area = 100e3\n",
    "    radar_location = (50e3, 0)  # Radar location (x, y) in meters\n",
    "\n",
    "    # --- STATE SPACE ---\n",
    "    states = nothing,     # We'll model state generation implicitly\n",
    "    \n",
    "    # --- ACTION SPACE ---\n",
    "    actions = [\n",
    "        # Example discretized radar settings (fill in realistic values)\n",
    "        # start with a range of differeent realistic settings\n",
    "        (beamwidth=5, pulse_length=0.000001, Tipp= 0.001 ,rotation_rate=5),\n",
    "        (beamwidth=5, pulse_length=0.000001, Tipp= 0.001 ,rotation_rate=10),\n",
    "        (beamwidth=5, pulse_length=0.000002, Tipp= 0.001 ,rotation_rate=5),\n",
    "        (beamwidth=5, pulse_length=0.000002, Tipp= 0.001 ,rotation_rate=10),\n",
    "    ],\n",
    "    \n",
    "    obstype = Vector{Float64},   # Observation: [power, phase, delay, doppler]\n",
    "\n",
    "    gen = function (s, a, rng)\n",
    "        # s = (x, y, vx, vy),   extract sate information\n",
    "        x, y, vx, vy = s\n",
    "\n",
    "        true_range = sqrt((xp - radar_location[1])^2 + (yp - radar_location[2])^2)\n",
    "\n",
    "        # Observation Measurments\n",
    "        received_power  = radar_return_power(λ, true_range)\n",
    "        view_angle      = radar_view_angle(x, y, radar_location)\n",
    "        delay           = radar_return_delay(true_range)\n",
    "        doppler_obs     = radar_doppler(s)\n",
    "        measurments = [received_power, view_angle, delay, doppler_obs]\n",
    "\n",
    "        # solve for the observed state\n",
    "        o = radar_meas_2_obs_sate()\n",
    "\n",
    "        # REWARD: - (tracking error) - (action cost)\n",
    "        xo, yo, vxo, vyo = o\n",
    "        # tracking_error = sqrt(xp^2 + yp^2)\n",
    "        # action_penalty = 0.1*(a.beamwidth + a.pulse_length + abs(a.steering_angle)/30)\n",
    "        r = -tracking_error - action_penalty\n",
    "\n",
    "        # TRANSITION MODEL: Target motion (simple linear)\n",
    "        dt = 0.1            # time step\n",
    "        xp = x + vx*dt      # + noise_std*randn(rng)\n",
    "        yp = y + vy*dt      # + noise_std*randn(rng)\n",
    "                            # keep velocities\n",
    "        sp = (xp, yp, vx, vy)\n",
    "\n",
    "        return (sp=sp, o=o, r=r)\n",
    "    end,\n",
    "\n",
    "    # change this later to start at edge of the radar coverage area\n",
    "    initialstate = ImplicitDistribution(rng -> (\n",
    "        x = 0,\n",
    "        y = 50e3,\n",
    "        vx = 200.0*randn(rng),\n",
    "        vy = 10.0*randn(rng)\n",
    "    )),\n",
    "\n",
    "    discount = 0.99,\n",
    "\n",
    "    isterminal = s -> false  # Tracking problem — no natural terminal state \n",
    "    # TODO: termainal states will be when the target reaches the end of the radar simulator\n",
    ")\n"
   ]
  },
  {
   "cell_type": "markdown",
   "id": "6e62fc11",
   "metadata": {},
   "source": [
    "## 2. Create Updater (Particle Filter)"
   ]
  }
 ],
 "metadata": {
  "kernelspec": {
   "display_name": "Julia 1.11.2",
   "language": "julia",
   "name": "julia-1.11"
  },
  "language_info": {
   "file_extension": ".jl",
   "mimetype": "application/julia",
   "name": "julia",
   "version": "1.11.2"
  }
 },
 "nbformat": 4,
 "nbformat_minor": 5
}
