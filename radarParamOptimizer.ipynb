{
 "cells": [
  {
   "cell_type": "markdown",
   "id": "13c3b651",
   "metadata": {},
   "source": [
    "Real Time Radar Parameter Optimizer\n",
    "===================================\n",
    "\n",
    "Carson Anderson & Calvin Henggeler  \n",
    "ASEN 5264 Decision Making Under Uncertainty - Spring 2025  \n",
    "Semester Project  "
   ]
  },
  {
   "cell_type": "code",
   "execution_count": 118,
   "id": "2f00e2d7",
   "metadata": {},
   "outputs": [
    {
     "data": {
      "text/plain": [
       "plot_wavefield (generic function with 1 method)"
      ]
     },
     "metadata": {},
     "output_type": "display_data"
    }
   ],
   "source": [
    "using POMDPs\n",
    "using POMDPTools: DiscreteUpdater, ImplicitDistribution, RolloutSimulator\n",
    "using QuickPOMDPs: QuickPOMDP\n",
    "using POMDPTesting: has_consistent_distributions\n",
    "using QMDP: QMDPSolver\n",
    "using Plots\n",
    "using Statistics: std\n",
    "using POMDPPolicies: alphavectors, FunctionPolicy\n",
    "using Random, Distributions\n",
    "using ParticleFilters\n",
    "include(\"radarFunctions.jl\")\n",
    "include(\"radarSimulator.jl\")"
   ]
  },
  {
   "cell_type": "markdown",
   "id": "7902d045",
   "metadata": {},
   "source": [
    "## 1. Create Smart Radar POMDP"
   ]
  },
  {
   "cell_type": "markdown",
   "id": "0f4da0e3",
   "metadata": {},
   "source": [
    "### Previoius POMDP"
   ]
  },
  {
   "cell_type": "code",
   "execution_count": 119,
   "id": "dd5c23f5",
   "metadata": {},
   "outputs": [],
   "source": [
    "# radar_tracking_calvin = QuickPOMDP(\n",
    "#     \n",
    "#     # --- Environment Parameters ---\n",
    "#     c = 3*10^8  # Speed of light\n",
    "#     f = 1e9     # Frequency\n",
    "#     λ = c/f     # Wavelength\n",
    "#     x_coverage_area = 100e3     # 100 km x 100 km area\n",
    "#     y_coverage_area = 100e3\n",
    "#     radar_location = (50e3, 0)  # Radar location (x, y) in meters\n",
    "# \n",
    "#     # --- STATE SPACE ---\n",
    "#     states = nothing,     # We'll model state generation implicitly\n",
    "#     \n",
    "#     # --- ACTION SPACE ---\n",
    "#     actions = [\n",
    "#         # Example discretized radar settings (fill in realistic values)\n",
    "#         # start with a range of differeent realistic settings\n",
    "#         (beamwidth=5, pulse_length=0.000001, Tipp= 0.001) # , rotation_rate=5),\n",
    "#         (beamwidth=5, pulse_length=0.000001, Tipp= 0.001) # , rotation_rate=10),\n",
    "#         (beamwidth=5, pulse_length=0.000002, Tipp= 0.001) # , rotation_rate=5),\n",
    "#         (beamwidth=5, pulse_length=0.000002, Tipp= 0.001) # , rotation_rate=10),\n",
    "#     ],\n",
    "#     # \n",
    "#     \n",
    "#     obstype = Vector{Float64},   # Observation: [power, phase, delay, doppler]\n",
    "# \n",
    "#     gen = function (s, a, rng)\n",
    "#         # s = (x, y, vx, vy),   extract sate information\n",
    "#         x, y, vx, vy = s\n",
    "#         true_range = sqrt((xp - radar_location[1])^2 + (yp - radar_location[2])^2)\n",
    "# \n",
    "#         #TODO: set noise parameters based on radar settings, then add noise to obsercations measurments\n",
    "# \n",
    "# \n",
    "#         # Observation Measurments\n",
    "#         received_power  = radar_return_power(λ, true_range)\n",
    "#         view_angle      = radar_view_angle(x, y, radar_location)\n",
    "#         delay           = radar_return_delay(true_range)\n",
    "#         doppler_obs     = radar_doppler(s)\n",
    "#         measurments = [received_power, view_angle, delay, doppler_obs]\n",
    "# \n",
    "#         # solve for the observed state\n",
    "#         o = radar_meas_2_obs_sate()\n",
    "# \n",
    "#         # REWARD: - (tracking error) - (velocity_error) - (action cost)\n",
    "#         xo, yo, vxo, vyo = o\n",
    "#         tracking_error = sqrt((x - xo)^2 + (y - yo)^2)              # Euclidean distance\n",
    "#         velocity_error = sqrt(vx^2 + vy^2) - sqrt(vxo^2 + vyo^2)    # difference of absolute velocities\n",
    "#         r = -tracking_error - velocity_error\n",
    "#         # peanalties for actions should realistically be seen in greater measurement noise\n",
    "# \n",
    "#         # TRANSITION MODEL: Target motion (simple linear)\n",
    "#         dt = T_ipp * 10     # time step\n",
    "#         xp = x + vx*dt      # + noise_std*randn(rng)\n",
    "#         yp = y + vy*dt      # + noise_std*randn(rng)\n",
    "#                             # keep velocities\n",
    "#         sp = (xp, yp, vx, vy)\n",
    "# \n",
    "#         return (sp=sp, o=o, r=r)\n",
    "#     end,\n",
    "# \n",
    "#     # TINITIAL STATE GENERATION\n",
    "#     # Target starts at either far side edge of the coverage area (x ∈ [0, 100e3], y ∈ [0, 100e3])\n",
    "#     # target will aways start at y = 50e3, ending at a random y at the other side, gives relative heading\n",
    "#     # Absolute velocity is uniformy distributed from 50 - 300 m/s, v_x and v_x derived from heading and absolute velocity\n",
    "#     \n",
    "#     function generate_initial_target(rng::AbstractRNG=Random.default_rng())\n",
    "#         # 1. Start on left or right edge\n",
    "#         start_x = rand(rng, [0.0, 100e3])  # 0 or 100,000 m\n",
    "#     \n",
    "#         # 2. Always start at y = 50 km\n",
    "#         start_y = 50e3  # meters\n",
    "#     \n",
    "#         # 3. Pick random end y on the opposite side\n",
    "#         end_y = rand(rng) * 100e3  # [0, 100_000] m\n",
    "#     \n",
    "#         # 4. Compute heading angle from start to end\n",
    "#         dx = (start_x == 0.0) ? 100e3 : -100e3\n",
    "#         dy = end_y - start_y\n",
    "#         heading_rad = atan(dy, dx)  # angle in radians\n",
    "#     \n",
    "#         # 5. Choose absolute speed [50, 300] m/s\n",
    "#         speed = rand(rng, Uniform(50.0, 300.0))\n",
    "#     \n",
    "#         # 6. Derive velocity components\n",
    "#         vx = speed * cos(heading_rad)\n",
    "#         vy = speed * sin(heading_rad)\n",
    "#     \n",
    "#         return (x=start_x, y=start_y, vx=vx, vy=vy)b\n",
    "#     end\n",
    "#     \n",
    "#     initiatial_state generate_initial_target()\n",
    "# \n",
    "#     discount = 0.99,\n",
    "# \n",
    "#     isterminal = s -> false  # Tracking problem — no natural terminal state \n",
    "#     # TODO: termainal states will be when the target reaches the end of the radar simulator\n",
    "# )\n"
   ]
  },
  {
   "cell_type": "markdown",
   "id": "34df31d1",
   "metadata": {},
   "source": [
    "### Environment Parameters"
   ]
  },
  {
   "cell_type": "code",
   "execution_count": 120,
   "id": "f13f77a1",
   "metadata": {},
   "outputs": [
    {
     "data": {
      "text/plain": [
       "1-element Vector{Receiver}:\n",
       " Receiver([20.04008016031912, 20.04008016031912], Float64[], 3.0)"
      ]
     },
     "metadata": {},
     "output_type": "display_data"
    }
   ],
   "source": [
    "    # ===================\n",
    "    # --- ENVIRONMENT ---\n",
    "    # ===================\n",
    "\n",
    "    # Environment Grid\n",
    "    x_max_size = 10000.0\n",
    "    y_max_size = 10000.0    \n",
    "    divisions  = 500\n",
    "    x = collect(LinRange(-x_max_size, x_max_size, divisions))\n",
    "    y = collect(LinRange(-y_max_size, y_max_size, divisions))\n",
    "    global env = RadarEnvironment(x, y)\n",
    "\n",
    "    # Receiver (same as transmitter)\n",
    "    pos_rx = SVector(0.0, 0.0)\n",
    "    snapped_pos_rx = snap_to_grid(env.grid_x, pos_rx)\n",
    "    rx = Receiver(snapped_pos_rx, Float64[], 3.0)\n",
    "    add_receiver!(env, rx)"
   ]
  },
  {
   "cell_type": "markdown",
   "id": "3c81b099",
   "metadata": {},
   "source": [
    "### Radar POMDP"
   ]
  },
  {
   "cell_type": "code",
   "execution_count": 121,
   "id": "153c0313",
   "metadata": {},
   "outputs": [
    {
     "data": {
      "text/plain": [
       "QuickPOMDP{Base.UUID(\"0d99a56f-8f3e-47c0-a533-e7fda9d39b91\"), Vector{Float64}, Tuple{Int64, Int64, Int64}, Vector{Float64}, @NamedTuple{isterminal::var\"#439#448\", actionindex::Dict{Tuple{Int64, Int64, Int64}, Int64}, statetype::DataType, transition::var\"#434#443\", actions::Vector{Tuple{Int64, Int64, Int64}}, reward::var\"#436#445\", discount::Float64, initialstate::var\"#437#446\", obstype::DataType, observation::var\"#435#444\"}}((isterminal = var\"#439#448\"(), actionindex = Dict((75, 20, 100) => 556, (160, 40, 100) => 1184, (35, 45, 100) => 288, (40, 15, 10) => 298, (105, 20, 50) => 771, (240, 45, 50) => 1763, (165, 5, 1) => 1189, (215, 15, 50) => 1559, (85, 45, 10) => 646, (125, 30, 50) => 923…), statetype = Vector{Float64}, transition = var\"#434#443\"(), actions = [(0, 5, 1), (0, 5, 10), (0, 5, 50), (0, 5, 100), (0, 10, 1), (0, 10, 10), (0, 10, 50), (0, 10, 100), (0, 15, 1), (0, 15, 10)  …  (355, 35, 50), (355, 35, 100), (355, 40, 1), (355, 40, 10), (355, 40, 50), (355, 40, 100), (355, 45, 1), (355, 45, 10), (355, 45, 50), (355, 45, 100)], reward = var\"#436#445\"(), discount = 0.95, initialstate = var\"#437#446\"(), obstype = Vector{Float64}, observation = var\"#435#444\"()))"
      ]
     },
     "metadata": {},
     "output_type": "display_data"
    }
   ],
   "source": [
    "radar = QuickPOMDP(\n",
    "    \n",
    "    # ====================\n",
    "    # --- ACTION SPACE ---\n",
    "    # ====================\n",
    "\n",
    "    statetype = Vector{Float64},  # State: [x, y]\n",
    "    obstype = Vector{Float64},    # Observation: [belief_x, belief_y]\n",
    "\n",
    "    discount = 0.95,\n",
    "\n",
    "    actions = [(steering_angle, beamwidth, power) for steering_angle in 0:5:355 for beamwidth in 5:5:45 for power in [1, 10, 50, 100]],\n",
    "    \n",
    "    # ========================\n",
    "    # --- GENERATIVE MODEL ---\n",
    "    # ========================\n",
    "    # obstype = Vector{Float64},   # Observation: [steering_angle, range, peak_power]\n",
    "\n",
    "    # gen = function(s, a, rng)\n",
    "    #     steer_ang, beamwidth, tx_power = a  # Extract action parameters\n",
    "    #     xpos, ypos = s                      # Extract state parameters\n",
    "\n",
    "    #     # Create trnasmitter object with action parameters\n",
    "    #     # PointTransmitter(position, frequency, power, tx_time, pulse_width, steering_angle, beamwidth, is_isotropic)\n",
    "    #     tx = PointTransmitter(SVector(0.0, 0.0), 1e9, tx_power, 0.0, 0.6, steer_ang, beamwidth, false)\n",
    "    #     add_transmitter!(env, tx)\n",
    "\n",
    "    #     # Act on the Environment\n",
    "    #     # ----------------------\n",
    "    #     for t = 1:95 \n",
    "    #         # perform search\n",
    "    #         step!(env, 1.0)\n",
    "    #     end\n",
    "    #     rm_transmitter!(env, tx)  # Remove the transmitter after use\n",
    "\n",
    "    #     # Retreive observation/ measurments\n",
    "    #     return_powers_arr = env.receivers[1].received_power + broadcast(abs, (1e-11)*randn(length(rx.received_power))) # make into normal dist\n",
    "    #     return_power, return_delay = findmax(return_powers_arr[])\n",
    "    #     range = radar_range(return_delay * 10^-3, noise_std = 0.6*10^-6 ) # return time in ms, noise_std in μs\n",
    "\n",
    "    #     # Calculate a belif state from noisy observation\n",
    "    #     beleif_state = boresight_polar_2_cartesian(range, steer_ang + randn()*beamwidth/2)\n",
    "\n",
    "    #     # State Transition\n",
    "    #     # ------------------\n",
    "    #     sp = s\n",
    "        \n",
    "    #     # Reward function\n",
    "    #     # --------------- \n",
    "    \n",
    "    #     # TODO: vectorize this\n",
    "    #     # TODO: use normilization function\n",
    "    #     tracking_error = sqrt((xpos - beleif_state[1])^2 + (ypos - beleif_state[2])^2)  # Euclidean distance\n",
    "\n",
    "    #     if tracking_error < 100\n",
    "\n",
    "    #         reward = 100\n",
    "        \n",
    "    #     else\n",
    "    #         power_cost = tx_power  # Cost of power used (arbitrary units)\n",
    "\n",
    "    #         # normaize costs to be evenly weighted\n",
    "    #         norm_tracking_error = tracking_error / (sqrt(2 * (x_max_size^2 + y_max_size^2)))  # Normalize to max distance in grid\n",
    "    #         power_cost = power_cost / (100e3)  # Normalize to max power in grid\n",
    "\n",
    "    #         reward = - (100 * power_cost) - (100 * norm_tracking_error)\n",
    "    #     end\n",
    "\n",
    "    #     return (sp=sp, o=[steering_angle, peak_power, range], r=reward)\n",
    "\n",
    "    # end,\n",
    "\n",
    "    transition = function (s, a)\n",
    "        # For now, this is identity — modify for real motion later\n",
    "        return s\n",
    "    end,\n",
    "\n",
    "    observation = function (a, s)\n",
    "        steer_ang, beamwidth, tx_power = a\n",
    "        xpos, ypos = s\n",
    "    \n",
    "        # Build and inject transmitter\n",
    "        tx = PointTransmitter(SVector(0.0, 0.0), 1e9, tx_power, 0.0, 0.6, steer_ang, beamwidth, false)\n",
    "        add_transmitter!(env, tx)\n",
    "    \n",
    "        # Propagate environment\n",
    "        for t = 1:95\n",
    "            step!(env, 1.0)\n",
    "        end\n",
    "        rm_transmitter!(env, tx)\n",
    "    \n",
    "        # Simulated radar measurements\n",
    "        powers = env.receivers[1].received_power\n",
    "        noisy_powers = powers .+ abs.(1e-11 .* randn(length(powers)))\n",
    "        return_power, return_delay = findmax(noisy_powers)\n",
    "    \n",
    "        range = radar_range(return_delay * 1e-3, noise_std = 0.6e-6)  # ms → s\n",
    "    \n",
    "        # Noisy estimate of position\n",
    "        belief_state = boresight_polar_2_cartesian(range, steer_ang + randn() * beamwidth / 2)\n",
    "    \n",
    "        return belief_state\n",
    "    end,\n",
    "\n",
    "\n",
    "    reward = function (s, a, belief_state)\n",
    "        xpos, ypos = s\n",
    "        steer_ang, beamwidth, tx_power = a\n",
    "    \n",
    "        # Tracking error (Euclidean)\n",
    "        tracking_error = sqrt((xpos - belief_state[1])^2 + (ypos - belief_state[2])^2)\n",
    "    \n",
    "        if tracking_error < 100\n",
    "            return 100.0\n",
    "        else\n",
    "            # Normalized costs\n",
    "            power_cost = tx_power / 100e3\n",
    "            norm_tracking_error = tracking_error / sqrt(2 * (x_max_size^2 + y_max_size^2))\n",
    "            return -100 * (power_cost + norm_tracking_error)\n",
    "        end\n",
    "    end,\n",
    "\n",
    "\n",
    "    # ========================\n",
    "        # INITIAL STATE GENERATION\n",
    "    # ========================\n",
    "    # statetype = Vector{Float64},  # State: [x, y]\n",
    "    \n",
    "    # initialstate = ImplicitDistribution([10000*randn(), 10000*randn()]),\n",
    "\n",
    "    initialstate = function()\n",
    "\n",
    "        init_x = 10000*randn()\n",
    "        init_y = 10000*randn()\n",
    "\n",
    "        # Reflector\n",
    "        pos_ref = SVector(init_x, init_y)\n",
    "        snapped_pos_ref = snap_to_grid(env.grid_x, pos_ref)\n",
    "        rx_ref = Reflector(snapped_pos_ref, 0.9, 10^10, false)\n",
    "        add_reflector!(env, rx_ref)\n",
    "\n",
    "        return ImplicitDistribution(rng -> [init_x, init_y])\n",
    "    end,\n",
    "\n",
    "    isterminal = s -> false  # Tracking problem — no natural terminal state \n",
    "    # TODO: termainal states will be when the target reaches the end of the radar simulator\n",
    ")\n"
   ]
  },
  {
   "cell_type": "code",
   "execution_count": 122,
   "id": "9b137e64",
   "metadata": {},
   "outputs": [
    {
     "name": "stdout",
     "output_type": "stream",
     "text": [
      "discount(radar) = 0.95\n",
      "(actions(radar))[2000] = (275, 25, 100)\n",
      "rand(initialstate(radar)) = [3091.540750157148, 6702.86615225249]\n"
     ]
    },
    {
     "data": {
      "text/plain": [
       "2-element Vector{Float64}:\n",
       " 3091.540750157148\n",
       " 6702.86615225249"
      ]
     },
     "metadata": {},
     "output_type": "display_data"
    }
   ],
   "source": [
    "@show discount(radar)\n",
    "@show actions(radar)[2000]\n",
    "@show rand(initialstate(radar)) "
   ]
  },
  {
   "cell_type": "code",
   "execution_count": null,
   "id": "080d308d",
   "metadata": {},
   "outputs": [],
   "source": [
    "# Test evaluation: policy alway looks forward\n",
    "policy = FunctionPolicy(o->POMDPs.actions(radar)[1])\n",
    "sim = RolloutSimulator(max_steps=10)\n",
    "POMDPs.simulate(sim, radar, policy)"
   ]
  },
  {
   "cell_type": "markdown",
   "id": "6e62fc11",
   "metadata": {},
   "source": [
    "## 2. Create Updater (Particle Filter)"
   ]
  }
 ],
 "metadata": {
  "kernelspec": {
   "display_name": "Julia 1.11.2",
   "language": "julia",
   "name": "julia-1.11"
  },
  "language_info": {
   "file_extension": ".jl",
   "mimetype": "application/julia",
   "name": "julia",
   "version": "1.11.2"
  }
 },
 "nbformat": 4,
 "nbformat_minor": 5
}
